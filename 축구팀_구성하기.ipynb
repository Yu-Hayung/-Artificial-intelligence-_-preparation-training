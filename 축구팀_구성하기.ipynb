{
  "nbformat": 4,
  "nbformat_minor": 0,
  "metadata": {
    "colab": {
      "name": "축구팀 구성하기.ipynb",
      "provenance": [],
      "toc_visible": true,
      "authorship_tag": "ABX9TyMRE3T8t1UvcyjgeNu8g2nz",
      "include_colab_link": true
    },
    "kernelspec": {
      "name": "python3",
      "display_name": "Python 3"
    },
    "language_info": {
      "name": "python"
    }
  },
  "cells": [
    {
      "cell_type": "markdown",
      "metadata": {
        "id": "view-in-github",
        "colab_type": "text"
      },
      "source": [
        "<a href=\"https://colab.research.google.com/github/Yu-Hayung/Artificial-intelligence_preparation-training/blob/main/%EC%B6%95%EA%B5%AC%ED%8C%80_%EA%B5%AC%EC%84%B1%ED%95%98%EA%B8%B0.ipynb\" target=\"_parent\"><img src=\"https://colab.research.google.com/assets/colab-badge.svg\" alt=\"Open In Colab\"/></a>"
      ]
    },
    {
      "cell_type": "markdown",
      "metadata": {
        "id": "VaYmSauSlGn_"
      },
      "source": [
        "# 내가 만약 축구팀 감독이라면\n",
        "\n",
        "# 데이터 수집 \n",
        "\n",
        "SOFIFA 에서 제공하는 2019년 FIFA 선수들의 데이터를 파이선으로 분석 "
      ]
    },
    {
      "cell_type": "code",
      "metadata": {
        "colab": {
          "base_uri": "https://localhost:8080/"
        },
        "id": "BBBoh06ylSgb",
        "outputId": "05dce0aa-b6d0-49d0-d3b6-9197565593e9"
      },
      "source": [
        "# 파일에 저장한 데이터를 불러와 출력하기\n",
        "\n",
        "import pandas as pd\n",
        "\n",
        "\n",
        "fifa2019 = pd.read_csv('fifa2019.csv')        # fifa2019.csv 파일의 데이터 불러오기\n",
        "\n",
        "print(fifa2019.shape)                         # 출력하기"
      ],
      "execution_count": 8,
      "outputs": [
        {
          "output_type": "stream",
          "text": [
            "(8336, 89)\n"
          ],
          "name": "stdout"
        }
      ]
    },
    {
      "cell_type": "code",
      "metadata": {
        "colab": {
          "base_uri": "https://localhost:8080/"
        },
        "id": "CQxothM1o7od",
        "outputId": "fc4f530f-ed15-4c1d-d8d3-2f627bba6355"
      },
      "source": [
        "print(fifa2019.info())\n"
      ],
      "execution_count": 9,
      "outputs": [
        {
          "output_type": "stream",
          "text": [
            "<class 'pandas.core.frame.DataFrame'>\n",
            "RangeIndex: 8336 entries, 0 to 8335\n",
            "Data columns (total 89 columns):\n",
            " #   Column                    Non-Null Count  Dtype  \n",
            "---  ------                    --------------  -----  \n",
            " 0   Unnamed: 0                8336 non-null   int64  \n",
            " 1   ID                        8336 non-null   int64  \n",
            " 2   Name                      8336 non-null   object \n",
            " 3   Age                       8336 non-null   int64  \n",
            " 4   Photo                     8336 non-null   object \n",
            " 5   Nationality               8336 non-null   object \n",
            " 6   Flag                      8336 non-null   object \n",
            " 7   Overall                   8335 non-null   float64\n",
            " 8   Potential                 8335 non-null   float64\n",
            " 9   Club                      8195 non-null   object \n",
            " 10  Club Logo                 8335 non-null   object \n",
            " 11  Value                     8335 non-null   object \n",
            " 12  Wage                      8335 non-null   object \n",
            " 13  Special                   8335 non-null   float64\n",
            " 14  Preferred Foot            8335 non-null   object \n",
            " 15  International Reputation  8335 non-null   float64\n",
            " 16  Weak Foot                 8335 non-null   float64\n",
            " 17  Skill Moves               8335 non-null   float64\n",
            " 18  Work Rate                 8335 non-null   object \n",
            " 19  Body Type                 8335 non-null   object \n",
            " 20  Real Face                 8335 non-null   object \n",
            " 21  Position                  8332 non-null   object \n",
            " 22  Jersey Number             8332 non-null   float64\n",
            " 23  Joined                    7536 non-null   object \n",
            " 24  Loaned From               659 non-null    object \n",
            " 25  Contract Valid Until      8195 non-null   object \n",
            " 26  Height                    8335 non-null   object \n",
            " 27  Weight                    8335 non-null   object \n",
            " 28  LS                        7558 non-null   object \n",
            " 29  ST                        7558 non-null   object \n",
            " 30  RS                        7558 non-null   object \n",
            " 31  LW                        7558 non-null   object \n",
            " 32  LF                        7558 non-null   object \n",
            " 33  CF                        7558 non-null   object \n",
            " 34  RF                        7558 non-null   object \n",
            " 35  RW                        7558 non-null   object \n",
            " 36  LAM                       7558 non-null   object \n",
            " 37  CAM                       7558 non-null   object \n",
            " 38  RAM                       7558 non-null   object \n",
            " 39  LM                        7558 non-null   object \n",
            " 40  LCM                       7558 non-null   object \n",
            " 41  CM                        7558 non-null   object \n",
            " 42  RCM                       7558 non-null   object \n",
            " 43  RM                        7558 non-null   object \n",
            " 44  LWB                       7558 non-null   object \n",
            " 45  LDM                       7558 non-null   object \n",
            " 46  CDM                       7558 non-null   object \n",
            " 47  RDM                       7558 non-null   object \n",
            " 48  RWB                       7558 non-null   object \n",
            " 49  LB                        7558 non-null   object \n",
            " 50  LCB                       7558 non-null   object \n",
            " 51  CB                        7558 non-null   object \n",
            " 52  RCB                       7558 non-null   object \n",
            " 53  RB                        7558 non-null   object \n",
            " 54  Crossing                  8335 non-null   float64\n",
            " 55  Finishing                 8335 non-null   float64\n",
            " 56  HeadingAccuracy           8335 non-null   float64\n",
            " 57  ShortPassing              8335 non-null   float64\n",
            " 58  Volleys                   8335 non-null   float64\n",
            " 59  Dribbling                 8335 non-null   float64\n",
            " 60  Curve                     8335 non-null   float64\n",
            " 61  FKAccuracy                8335 non-null   float64\n",
            " 62  LongPassing               8335 non-null   float64\n",
            " 63  BallControl               8335 non-null   float64\n",
            " 64  Acceleration              8335 non-null   float64\n",
            " 65  SprintSpeed               8335 non-null   float64\n",
            " 66  Agility                   8335 non-null   float64\n",
            " 67  Reactions                 8335 non-null   float64\n",
            " 68  Balance                   8335 non-null   float64\n",
            " 69  ShotPower                 8335 non-null   float64\n",
            " 70  Jumping                   8335 non-null   float64\n",
            " 71  Stamina                   8335 non-null   float64\n",
            " 72  Strength                  8335 non-null   float64\n",
            " 73  LongShots                 8335 non-null   float64\n",
            " 74  Aggression                8335 non-null   float64\n",
            " 75  Interceptions             8335 non-null   float64\n",
            " 76  Positioning               8335 non-null   float64\n",
            " 77  Vision                    8335 non-null   float64\n",
            " 78  Penalties                 8335 non-null   float64\n",
            " 79  Composure                 8335 non-null   float64\n",
            " 80  Marking                   8335 non-null   float64\n",
            " 81  StandingTackle            8335 non-null   float64\n",
            " 82  SlidingTackle             8335 non-null   float64\n",
            " 83  GKDiving                  8335 non-null   float64\n",
            " 84  GKHandling                8335 non-null   float64\n",
            " 85  GKKicking                 8335 non-null   float64\n",
            " 86  GKPositioning             8335 non-null   float64\n",
            " 87  GKReflexes                8335 non-null   float64\n",
            " 88  Release Clause            7533 non-null   object \n",
            "dtypes: float64(41), int64(3), object(45)\n",
            "memory usage: 5.7+ MB\n",
            "None\n"
          ],
          "name": "stdout"
        }
      ]
    },
    {
      "cell_type": "markdown",
      "metadata": {
        "id": "jEm7QY64pGMH"
      },
      "source": [
        "# 데이터 다루기 "
      ]
    },
    {
      "cell_type": "code",
      "metadata": {
        "colab": {
          "base_uri": "https://localhost:8080/"
        },
        "id": "u3vmnP8LpDmb",
        "outputId": "b872dcd6-9f6f-46f2-8275-525b00f85f88"
      },
      "source": [
        "sub1 = fifa2019.loc[14]      # fifa2019의 인덱스 레이블 14인 행값을 sub1에 저장\n",
        "print(sub1)\n"
      ],
      "execution_count": 10,
      "outputs": [
        {
          "output_type": "stream",
          "text": [
            "Unnamed: 0                                                    14\n",
            "ID                                                        215914\n",
            "Name                                                    N. Kanté\n",
            "Age                                                           27\n",
            "Photo             https://cdn.sofifa.org/players/4/19/215914.png\n",
            "                                       ...                      \n",
            "GKHandling                                                    12\n",
            "GKKicking                                                     10\n",
            "GKPositioning                                                  7\n",
            "GKReflexes                                                    10\n",
            "Release Clause                                           €121.3M\n",
            "Name: 14, Length: 89, dtype: object\n"
          ],
          "name": "stdout"
        }
      ]
    },
    {
      "cell_type": "markdown",
      "metadata": {
        "id": "qXvn-LLXqCoR"
      },
      "source": [
        "## 원하는 범위의 데이이터 검색하기 "
      ]
    },
    {
      "cell_type": "code",
      "metadata": {
        "colab": {
          "base_uri": "https://localhost:8080/"
        },
        "id": "j2CnOyP5pSxL",
        "outputId": "4c90d6f1-783a-4531-a956-f2987adb173f"
      },
      "source": [
        "sub2 = fifa2019.loc[2:16]                        # 인덱스 레이블 2부터 16까지인 행 값을 sub2에 저장하기\n",
        "print(sub2)\n"
      ],
      "execution_count": 11,
      "outputs": [
        {
          "output_type": "stream",
          "text": [
            "    Unnamed: 0      ID  ... GKReflexes  Release Clause\n",
            "2            2  190871  ...       11.0         €228.1M\n",
            "3            3  193080  ...       94.0         €138.6M\n",
            "4            4  192985  ...       13.0         €196.4M\n",
            "5            5  183277  ...        8.0         €172.1M\n",
            "6            6  177003  ...        9.0         €137.4M\n",
            "7            7  176580  ...       37.0           €164M\n",
            "8            8  155862  ...       11.0         €104.6M\n",
            "9            9  200389  ...       89.0         €144.5M\n",
            "10          10  188545  ...       10.0         €127.1M\n",
            "11          11  182521  ...       10.0         €156.8M\n",
            "12          12  182493  ...       15.0          €90.2M\n",
            "13          13  168542  ...       12.0           €111M\n",
            "14          14  215914  ...       10.0         €121.3M\n",
            "15          15  211110  ...        8.0         €153.5M\n",
            "16          16  202126  ...       11.0         €160.7M\n",
            "\n",
            "[15 rows x 89 columns]\n"
          ],
          "name": "stdout"
        }
      ]
    },
    {
      "cell_type": "markdown",
      "metadata": {
        "id": "gzdwsIgyp9R2"
      },
      "source": [
        "# 전체 선수들의 이름과 선호하는 발 정보 출력하기 "
      ]
    },
    {
      "cell_type": "code",
      "metadata": {
        "colab": {
          "base_uri": "https://localhost:8080/"
        },
        "id": "4Ou8lDwxpYS3",
        "outputId": "de93202c-fe43-4b29-bbfa-7f47d19878d7"
      },
      "source": [
        "sub3 = fifa2019.loc[:,['Name', 'Preferred Foot']]\n",
        "print(sub3)\n"
      ],
      "execution_count": 12,
      "outputs": [
        {
          "output_type": "stream",
          "text": [
            "                   Name Preferred Foot\n",
            "0              L. Messi           Left\n",
            "1     Cristiano Ronaldo          Right\n",
            "2             Neymar Jr          Right\n",
            "3                De Gea          Right\n",
            "4          K. De Bruyne          Right\n",
            "...                 ...            ...\n",
            "8331           S. Jaime          Right\n",
            "8332           M. Bader          Right\n",
            "8333        D. Arboleda          Right\n",
            "8334         B. Merlini          Right\n",
            "8335           M. Smith            NaN\n",
            "\n",
            "[8336 rows x 2 columns]\n"
          ],
          "name": "stdout"
        }
      ]
    },
    {
      "cell_type": "markdown",
      "metadata": {
        "id": "-O3m-uMQp5ex"
      },
      "source": [
        "## 여러 행의 데이터 중 원하는 열 값만 골라 출력하기 "
      ]
    },
    {
      "cell_type": "code",
      "metadata": {
        "colab": {
          "base_uri": "https://localhost:8080/"
        },
        "id": "z595lzGipadL",
        "outputId": "2fcd28c1-7efd-4b2b-c96d-c017300d5831"
      },
      "source": [
        "sub4 = fifa2019.iloc[0:10,1:3]         # 0~9행, 1, 2열값을 sub4에 저장하기\n",
        "print(sub4)\n",
        "\n"
      ],
      "execution_count": 13,
      "outputs": [
        {
          "output_type": "stream",
          "text": [
            "       ID               Name\n",
            "0  158023           L. Messi\n",
            "1   20801  Cristiano Ronaldo\n",
            "2  190871          Neymar Jr\n",
            "3  193080             De Gea\n",
            "4  192985       K. De Bruyne\n",
            "5  183277          E. Hazard\n",
            "6  177003          L. Modrić\n",
            "7  176580          L. Suárez\n",
            "8  155862       Sergio Ramos\n",
            "9  200389           J. Oblak\n"
          ],
          "name": "stdout"
        }
      ]
    },
    {
      "cell_type": "markdown",
      "metadata": {
        "id": "Ee_4R3GOp1pY"
      },
      "source": [
        "## 우리나라 선수들 출력하기 "
      ]
    },
    {
      "cell_type": "code",
      "metadata": {
        "colab": {
          "base_uri": "https://localhost:8080/"
        },
        "id": "TpCGUWzBpi3l",
        "outputId": "60e85bab-93b9-420b-c954-41cecdf254cf"
      },
      "source": [
        "korea_player=fifa2019['Nationality']=='Korea Republic'\n",
        "\n",
        "sub5 = fifa2019.loc[korea_player]\n",
        "\n",
        "print(korea_player)\n",
        "print(sub5)\n"
      ],
      "execution_count": 14,
      "outputs": [
        {
          "output_type": "stream",
          "text": [
            "0       False\n",
            "1       False\n",
            "2       False\n",
            "3       False\n",
            "4       False\n",
            "        ...  \n",
            "8331    False\n",
            "8332    False\n",
            "8333    False\n",
            "8334    False\n",
            "8335    False\n",
            "Name: Nationality, Length: 8336, dtype: bool\n",
            "      Unnamed: 0      ID  ... GKReflexes  Release Clause\n",
            "125          125  200104  ...       10.0          €71.2M\n",
            "1295        1295  180283  ...       10.0          €14.3M\n",
            "1407        1407  182152  ...        9.0          €12.8M\n",
            "2002        2002  211927  ...        8.0          €17.6M\n",
            "2021        2021  221671  ...        8.0          €13.8M\n",
            "...          ...     ...  ...        ...             ...\n",
            "8142        8142  237424  ...       10.0           €2.8M\n",
            "8177        8177  212346  ...        9.0           €938K\n",
            "8271        8271  227982  ...        7.0           €1.6M\n",
            "8274        8274  200592  ...        7.0           €906K\n",
            "8294        8294  232595  ...       12.0             NaN\n",
            "\n",
            "[88 rows x 89 columns]\n"
          ],
          "name": "stdout"
        }
      ]
    },
    {
      "cell_type": "markdown",
      "metadata": {
        "id": "-9tlAueppxmd"
      },
      "source": [
        "## 우리나라 선수들의 이름 출력 "
      ]
    },
    {
      "cell_type": "code",
      "metadata": {
        "colab": {
          "base_uri": "https://localhost:8080/"
        },
        "id": "FL0cipVupuRb",
        "outputId": "10dab69d-80db-4fdf-d6ad-1f37774b9b75"
      },
      "source": [
        "sub6 = sub5['Name']\n",
        "print(sub6)\n"
      ],
      "execution_count": 15,
      "outputs": [
        {
          "output_type": "stream",
          "text": [
            "125              H. Son\n",
            "1295      Ki Sung Yueng\n",
            "1407       Koo Ja Cheol\n",
            "2002    Kwon Chang Hoon\n",
            "2021       Lee Jae Sung\n",
            "             ...       \n",
            "8142      Paik Seung Ho\n",
            "8177      Lee Seok Hyun\n",
            "8271        Jang Yun Ho\n",
            "8274      Park Jong Woo\n",
            "8294      Ko Seung Beom\n",
            "Name: Name, Length: 88, dtype: object\n"
          ],
          "name": "stdout"
        }
      ]
    },
    {
      "cell_type": "markdown",
      "metadata": {
        "id": "W9BwW1XfqK0y"
      },
      "source": [
        "# 데이터 시각화 하기 "
      ]
    },
    {
      "cell_type": "code",
      "metadata": {
        "colab": {
          "base_uri": "https://localhost:8080/",
          "height": 282
        },
        "id": "C_kpp6mBqMQx",
        "outputId": "5a37c6a3-e721-4fee-db6e-c8fd4d4acec9"
      },
      "source": [
        "import matplotlib.pyplot as plt          # 그래프를 출력하기 위한 모듈\n",
        "\n",
        "fifa2019['Preferred Foot'].value_counts().plot(kind='bar')\n",
        "plt.legend()                             # 범례 표시하기\n",
        "plt.show()                               # 그래프 출력하기"
      ],
      "execution_count": 16,
      "outputs": [
        {
          "output_type": "display_data",
          "data": {
            "image/png": "[encoded data removed]",
            "text/plain": [
              "<Figure size 432x288 with 1 Axes>"
            ]
          },
          "metadata": {
            "tags": [],
            "needs_background": "light"
          }
        }
      ]
    },
    {
      "cell_type": "code",
      "metadata": {
        "colab": {
          "base_uri": "https://localhost:8080/",
          "height": 248
        },
        "id": "t9PY6ujVqUzy",
        "outputId": "f2e6af28-24e8-4ec1-a2a7-39e53585ba56"
      },
      "source": [
        "fifa2019['Preferred Foot'].value_counts().plot(kind='pie', autopct='%1.f%%')\n",
        "plt.legend()                            # 범례 표시하기\n",
        "plt.show()                              # 그래프 출력하기\n"
      ],
      "execution_count": 17,
      "outputs": [
        {
          "output_type": "display_data",
          "data": {
            "image/png": "[encoded data removed]",
            "text/plain": [
              "<Figure size 432x288 with 1 Axes>"
            ]
          },
          "metadata": {
            "tags": []
          }
        }
      ]
    },
    {
      "cell_type": "markdown",
      "metadata": {
        "id": "YyNNHOvuqcGR"
      },
      "source": [
        "# 학습하기 \n",
        "\n",
        "비슷한 특성의 데이터 끼리 묶기 \n"
      ]
    },
    {
      "cell_type": "code",
      "metadata": {
        "colab": {
          "base_uri": "https://localhost:8080/"
        },
        "id": "b9uHL4_AqkYl",
        "outputId": "60e1e327-a718-4c4d-eee1-a28a670b47f0"
      },
      "source": [
        "# 데이터 불러오기\n",
        "\n",
        "import pandas as pd\n",
        "\n",
        "\n",
        "fifa2019 = pd.read_csv('fifa2019.csv')\n",
        "\n",
        "df = pd.DataFrame.copy(fifa2019.sort_values(by = 'Overall', ascending = False).head(200))\n",
        "\n",
        "test_features=['Name','Stamina','Dribbling','ShortPassing','Penalties']\n",
        "\n",
        "test_df= pd.DataFrame(df, columns = test_features)\n",
        "\n",
        "print(test_df.head(5))\n"
      ],
      "execution_count": 18,
      "outputs": [
        {
          "output_type": "stream",
          "text": [
            "                Name  Stamina  Dribbling  ShortPassing  Penalties\n",
            "0           L. Messi     72.0       97.0          90.0       75.0\n",
            "1  Cristiano Ronaldo     88.0       88.0          81.0       85.0\n",
            "2          Neymar Jr     81.0       96.0          84.0       81.0\n",
            "3             De Gea     43.0       18.0          50.0       40.0\n",
            "4       K. De Bruyne     90.0       86.0          92.0       79.0\n"
          ],
          "name": "stdout"
        }
      ]
    },
    {
      "cell_type": "code",
      "metadata": {
        "colab": {
          "base_uri": "https://localhost:8080/"
        },
        "id": "a14Zxw5WqqC3",
        "outputId": "3af2de7e-d3ec-409b-f41a-9cffec8c2b05"
      },
      "source": [
        "\n",
        "# 체력(Stamina) & 드리블(Dribbling)\n",
        "import numpy as np\n",
        "XY = np.array(test_df)\n",
        "X = XY[:,1:3]\n",
        "\n",
        "# 표본공간에 k개의 중심을 무작위로 생성하기\n",
        "k = 3                                 #분류하려는 군집의 개수가 3개이므로 k=3\n",
        "C_x = np.random.choice(X[:,0],k)\n",
        "C_y = np.random.choice(X[:,1],k)\n",
        "C = np.array(list(zip(C_x, C_y)))\n",
        "print(C)\n"
      ],
      "execution_count": 19,
      "outputs": [
        {
          "output_type": "stream",
          "text": [
            "[[83. 23.]\n",
            " [92. 69.]\n",
            " [69. 89.]]\n"
          ],
          "name": "stdout"
        }
      ]
    },
    {
      "cell_type": "code",
      "metadata": {
        "colab": {
          "base_uri": "https://localhost:8080/",
          "height": 295
        },
        "id": "8Ibco7t0q1nn",
        "outputId": "1d2bd930-85dd-428b-e140-ed73df6c1181"
      },
      "source": [
        "# 데이터 시각화하기\n",
        "import matplotlib.pyplot as plt\n",
        "\n",
        "Stamina = test_df['Stamina']\n",
        "Dribbling = test_df['Dribbling']\n",
        "\n",
        "plt.title('Stamina&Dribbling')\n",
        "plt.xlabel('Stamina')\n",
        "plt.ylabel('Dribbling')\n",
        "plt.scatter(Stamina,Dribbling,marker='^',c='blue',s=10,label='players')\n",
        "# 중심점 표시\n",
        "plt.scatter(C_x, C_y, marker='*', s=200, c='black',label='centroids')\n",
        "\n",
        "plt.legend(loc='best')\n",
        "plt.grid()\n",
        "plt.show()"
      ],
      "execution_count": 21,
      "outputs": [
        {
          "output_type": "display_data",
          "data": {
            "image/png": "[encoded data removed]",
            "text/plain": [
              "<Figure size 432x288 with 1 Axes>"
            ]
          },
          "metadata": {
            "tags": [],
            "needs_background": "light"
          }
        }
      ]
    },
    {
      "cell_type": "code",
      "metadata": {
        "colab": {
          "base_uri": "https://localhost:8080/"
        },
        "id": "u-n8mk2fq3vd",
        "outputId": "8a67ade9-56ff-41e4-9bf2-778b575ee3a2"
      },
      "source": [
        "# 유클리디안 거리 계산 함수 만들기\n",
        "def Distance(A, B):\n",
        "    return np.sqrt(np.sum(np.power((A-B),2)))\n",
        "\n",
        "\n",
        "# 각 군집의 중심을 새롭게 계산하기 \n",
        "\n",
        "C_old = np.zeros(C.shape)       # 중심의 좌표를 업데이트하기 위해 동일한 크기의 행렬을 선언 \n",
        "clusters = np.zeros(len(X))     # 모든 데이터의 클러스터 라벨을 저장하기 위해 행렬을 선언, 초깃값은 0으로 할당\n",
        "flag = Distance(C, C_old)       # 반복문의 종료 기준이 될 변수 선언, 중심 C의 좌표가 더이상 변화가 없을 때까지 반복하는 기준이 됨.\n",
        "print(C_old)\n",
        "print(flag)\n"
      ],
      "execution_count": 22,
      "outputs": [
        {
          "output_type": "stream",
          "text": [
            "[[0. 0.]\n",
            " [0. 0.]\n",
            " [0. 0.]]\n",
            "182.55136263528684\n"
          ],
          "name": "stdout"
        }
      ]
    },
    {
      "cell_type": "markdown",
      "metadata": {
        "id": "ObTooiS_q9r6"
      },
      "source": [
        "## 각 군집의 중심을 새롭게 계산하기 "
      ]
    },
    {
      "cell_type": "code",
      "metadata": {
        "colab": {
          "base_uri": "https://localhost:8080/",
          "height": 266
        },
        "id": "1jAeoUGjrB40",
        "outputId": "d6d9edb1-6480-4c94-9b42-f163c328f937"
      },
      "source": [
        "# 클러스터 할당이 변경되지 않을 때까지 반복하기\n",
        "from copy import deepcopy\n",
        "\n",
        "distances = []\n",
        "while flag !=0:                     #SSE\n",
        "    for i in range(len(X)):\n",
        "      for j in range(3):\n",
        "        temp = Distance(X[i], C[j])\n",
        "        distances.append(temp)\n",
        "      cluster = np.argmin(distances)\n",
        "      clusters[i] = cluster\n",
        "      distances = []\n",
        "    C_old = deepcopy(C)\n",
        "    for i in range(k):\n",
        "        points = [X[j] for j in range(len(X)) if clusters[j] == i]\n",
        "        C[i] = np.mean(points)\n",
        "    flag = Distance(C, C_old)\n",
        "    \n",
        "# 군집화 결과 시각화하기\n",
        "import matplotlib.pyplot as plt\n",
        "\n",
        "# 1번 군집\n",
        "plt.scatter(X[clusters == 0,0], X[clusters == 0,1], s=50, c='red', marker='o', edgecolor='black', label='A')\n",
        "            \n",
        "# 2번군집\n",
        "plt.scatter(X[clusters == 1,0], X[clusters == 1,1], s=50, c='yellow', marker='x', edgecolor='black', label='B')\n",
        "\n",
        "# 3번 군집\n",
        "plt.scatter(X[clusters == 2,0], X[clusters == 2,1], s=50, c='blue', marker='^', edgecolor='black', label='C')\n",
        "\n",
        "# 군집의 중심 좌표들\n",
        "plt.scatter(C[:, 0], C[:, 1], s=250, marker='*', c='black', edgecolor='black', label='Centroids')\n",
        "plt.legend()\n",
        "plt.grid()\n",
        "plt.show()\n"
      ],
      "execution_count": 23,
      "outputs": [
        {
          "output_type": "display_data",
          "data": {
            "image/png": "[encoded data removed]",
            "text/plain": [
              "<Figure size 432x288 with 1 Axes>"
            ]
          },
          "metadata": {
            "tags": [],
            "needs_background": "light"
          }
        }
      ]
    }
  ]
}