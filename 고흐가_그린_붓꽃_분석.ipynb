{
  "nbformat": 4,
  "nbformat_minor": 0,
  "metadata": {
    "colab": {
      "name": "고흐가 그린 붓꽃 분석.ipynb",
      "provenance": [],
      "collapsed_sections": [],
      "toc_visible": true,
      "authorship_tag": "ABX9TyNcS9Lm+kQPIIefnqydyX5D",
      "include_colab_link": true
    },
    "kernelspec": {
      "name": "python3",
      "display_name": "Python 3"
    },
    "language_info": {
      "name": "python"
    }
  },
  "cells": [
    {
      "cell_type": "markdown",
      "metadata": {
        "id": "view-in-github",
        "colab_type": "text"
      },
      "source": [
        "<a href=\"https://colab.research.google.com/github/Yu-Hayung/Artificial-intelligence_preparation-training/blob/main/%EA%B3%A0%ED%9D%90%EA%B0%80_%EA%B7%B8%EB%A6%B0_%EB%B6%93%EA%BD%83_%EB%B6%84%EC%84%9D.ipynb\" target=\"_parent\"><img src=\"https://colab.research.google.com/assets/colab-badge.svg\" alt=\"Open In Colab\"/></a>"
      ]
    },
    {
      "cell_type": "markdown",
      "metadata": {
        "id": "bRXpZo8_XHSY"
      },
      "source": [
        "# 고흐가 그린 붓꽃은 어떤 종류일까?\n"
      ]
    },
    {
      "cell_type": "markdown",
      "metadata": {
        "id": "g87OVHzkXTkT"
      },
      "source": [
        "# 데이터 수집하기 \n"
      ]
    },
    {
      "cell_type": "code",
      "metadata": {
        "colab": {
          "base_uri": "https://localhost:8080/"
        },
        "id": "XIxb7dvcXWpp",
        "outputId": "6c1d3ea1-e954-4a81-e176-23aedbe07dd3"
      },
      "source": [
        "# 붓꽃 데이터를 불러와 출력하기\n",
        "\n",
        "import csv\n",
        "\n",
        "f = open('/content/sample_data/Iris.csv')               # iris.csv 파일 열기\n",
        "data = csv.reader(f)               # iris.csv 속 데이터를 data에 저장하기\n",
        "result =[]                         # 빈 리스트 result 만들기 \n",
        " \n",
        "# 전체 데이터를 행별로 result 리스트에 저장 및 출력하기\n",
        "for row in data :\n",
        "    result.append(row)             # 행별로 데이터 저장하기\n",
        "    print(row)                     # 행별로 데이터 출력하기\n"
      ],
      "execution_count": 4,
      "outputs": [
        {
          "output_type": "stream",
          "text": [
            "['Id', 'SepalLengthCm', 'SepalWidthCm', 'PetalLengthCm', 'PetalWidthCm', 'Species']\n",
            "['1', '5.1', '3.5', '1.4', '0.2', 'Iris-setosa']\n",
            "['2', '4.9', '3.0', '1.4', '0.2', 'Iris-setosa']\n",
            "['3', '4.7', '3.2', '1.3', '0.2', 'Iris-setosa']\n",
            "['4', '4.6', '3.1', '1.5', '0.2', 'Iris-setosa']\n",
            "['5', '5.0', '3.6', '1.4', '0.2', 'Iris-setosa']\n",
            "['6', '5.4', '3.9', '1.7', '0.4', 'Iris-setosa']\n",
            "['7', '4.6', '3.4', '1.4', '0.3', 'Iris-setosa']\n",
            "['8', '5.0', '3.4', '1.5', '0.2', 'Iris-setosa']\n",
            "['9', '4.4', '2.9', '1.4', '0.2', 'Iris-setosa']\n",
            "['10', '4.9', '3.1', '1.5', '0.1', 'Iris-setosa']\n",
            "['11', '5.4', '3.7', '1.5', '0.2', 'Iris-setosa']\n",
            "['12', '4.8', '3.4', '1.6', '0.2', 'Iris-setosa']\n",
            "['13', '4.8', '3.0', '1.4', '0.1', 'Iris-setosa']\n",
            "['14', '4.3', '3.0', '1.1', '0.1', 'Iris-setosa']\n",
            "['15', '5.8', '4.0', '1.2', '0.2', 'Iris-setosa']\n",
            "['16', '5.7', '4.4', '1.5', '0.4', 'Iris-setosa']\n",
            "['17', '5.4', '3.9', '1.3', '0.4', 'Iris-setosa']\n",
            "['18', '5.1', '3.5', '1.4', '0.3', 'Iris-setosa']\n",
            "['19', '5.7', '3.8', '1.7', '0.3', 'Iris-setosa']\n",
            "['20', '5.1', '3.8', '1.5', '0.3', 'Iris-setosa']\n",
            "['21', '5.4', '3.4', '1.7', '0.2', 'Iris-setosa']\n",
            "['22', '5.1', '3.7', '1.5', '0.4', 'Iris-setosa']\n",
            "['23', '4.6', '3.6', '1.0', '0.2', 'Iris-setosa']\n",
            "['24', '5.1', '3.3', '1.7', '0.5', 'Iris-setosa']\n",
            "['25', '4.8', '3.4', '1.9', '0.2', 'Iris-setosa']\n",
            "['26', '5.0', '3.0', '1.6', '0.2', 'Iris-setosa']\n",
            "['27', '5.0', '3.4', '1.6', '0.4', 'Iris-setosa']\n",
            "['28', '5.2', '3.5', '1.5', '0.2', 'Iris-setosa']\n",
            "['29', '5.2', '3.4', '1.4', '0.2', 'Iris-setosa']\n",
            "['30', '4.7', '3.2', '1.6', '0.2', 'Iris-setosa']\n",
            "['31', '4.8', '3.1', '1.6', '0.2', 'Iris-setosa']\n",
            "['32', '5.4', '3.4', '1.5', '0.4', 'Iris-setosa']\n",
            "['33', '5.2', '4.1', '1.5', '0.1', 'Iris-setosa']\n",
            "['34', '5.5', '4.2', '1.4', '0.2', 'Iris-setosa']\n",
            "['35', '4.9', '3.1', '1.5', '0.1', 'Iris-setosa']\n",
            "['36', '5.0', '3.2', '1.2', '0.2', 'Iris-setosa']\n",
            "['37', '5.5', '3.5', '1.3', '0.2', 'Iris-setosa']\n",
            "['38', '4.9', '3.1', '1.5', '0.1', 'Iris-setosa']\n",
            "['39', '4.4', '3.0', '1.3', '0.2', 'Iris-setosa']\n",
            "['40', '5.1', '3.4', '1.5', '0.2', 'Iris-setosa']\n",
            "['41', '5.0', '3.5', '1.3', '0.3', 'Iris-setosa']\n",
            "['42', '4.5', '2.3', '1.3', '0.3', 'Iris-setosa']\n",
            "['43', '4.4', '3.2', '1.3', '0.2', 'Iris-setosa']\n",
            "['44', '5.0', '3.5', '1.6', '0.6', 'Iris-setosa']\n",
            "['45', '5.1', '3.8', '1.9', '0.4', 'Iris-setosa']\n",
            "['46', '4.8', '3.0', '1.4', '0.3', 'Iris-setosa']\n",
            "['47', '5.1', '3.8', '1.6', '0.2', 'Iris-setosa']\n",
            "['48', '4.6', '3.2', '1.4', '0.2', 'Iris-setosa']\n",
            "['49', '5.3', '3.7', '1.5', '0.2', 'Iris-setosa']\n",
            "['50', '5.0', '3.3', '1.4', '0.2', 'Iris-setosa']\n",
            "['51', '7.0', '3.2', '4.7', '1.4', 'Iris-versicolor']\n",
            "['52', '6.4', '3.2', '4.5', '1.5', 'Iris-versicolor']\n",
            "['53', '6.9', '3.1', '4.9', '1.5', 'Iris-versicolor']\n",
            "['54', '5.5', '2.3', '4.0', '1.3', 'Iris-versicolor']\n",
            "['55', '6.5', '2.8', '4.6', '1.5', 'Iris-versicolor']\n",
            "['56', '5.7', '2.8', '4.5', '1.3', 'Iris-versicolor']\n",
            "['57', '6.3', '3.3', '4.7', '1.6', 'Iris-versicolor']\n",
            "['58', '4.9', '2.4', '3.3', '1.0', 'Iris-versicolor']\n",
            "['59', '6.6', '2.9', '4.6', '1.3', 'Iris-versicolor']\n",
            "['60', '5.2', '2.7', '3.9', '1.4', 'Iris-versicolor']\n",
            "['61', '5.0', '2.0', '3.5', '1.0', 'Iris-versicolor']\n",
            "['62', '5.9', '3.0', '4.2', '1.5', 'Iris-versicolor']\n",
            "['63', '6.0', '2.2', '4.0', '1.0', 'Iris-versicolor']\n",
            "['64', '6.1', '2.9', '4.7', '1.4', 'Iris-versicolor']\n",
            "['65', '5.6', '2.9', '3.6', '1.3', 'Iris-versicolor']\n",
            "['66', '6.7', '3.1', '4.4', '1.4', 'Iris-versicolor']\n",
            "['67', '5.6', '3.0', '4.5', '1.5', 'Iris-versicolor']\n",
            "['68', '5.8', '2.7', '4.1', '1.0', 'Iris-versicolor']\n",
            "['69', '6.2', '2.2', '4.5', '1.5', 'Iris-versicolor']\n",
            "['70', '5.6', '2.5', '3.9', '1.1', 'Iris-versicolor']\n",
            "['71', '5.9', '3.2', '4.8', '1.8', 'Iris-versicolor']\n",
            "['72', '6.1', '2.8', '4.0', '1.3', 'Iris-versicolor']\n",
            "['73', '6.3', '2.5', '4.9', '1.5', 'Iris-versicolor']\n",
            "['74', '6.1', '2.8', '4.7', '1.2', 'Iris-versicolor']\n",
            "['75', '6.4', '2.9', '4.3', '1.3', 'Iris-versicolor']\n",
            "['76', '6.6', '3.0', '4.4', '1.4', 'Iris-versicolor']\n",
            "['77', '6.8', '2.8', '4.8', '1.4', 'Iris-versicolor']\n",
            "['78', '6.7', '3.0', '5.0', '1.7', 'Iris-versicolor']\n",
            "['79', '6.0', '2.9', '4.5', '1.5', 'Iris-versicolor']\n",
            "['80', '5.7', '2.6', '3.5', '1.0', 'Iris-versicolor']\n",
            "['81', '5.5', '2.4', '3.8', '1.1', 'Iris-versicolor']\n",
            "['82', '5.5', '2.4', '3.7', '1.0', 'Iris-versicolor']\n",
            "['83', '5.8', '2.7', '3.9', '1.2', 'Iris-versicolor']\n",
            "['84', '6.0', '2.7', '5.1', '1.6', 'Iris-versicolor']\n",
            "['85', '5.4', '3.0', '4.5', '1.5', 'Iris-versicolor']\n",
            "['86', '6.0', '3.4', '4.5', '1.6', 'Iris-versicolor']\n",
            "['87', '6.7', '3.1', '4.7', '1.5', 'Iris-versicolor']\n",
            "['88', '6.3', '2.3', '4.4', '1.3', 'Iris-versicolor']\n",
            "['89', '5.6', '3.0', '4.1', '1.3', 'Iris-versicolor']\n",
            "['90', '5.5', '2.5', '4.0', '1.3', 'Iris-versicolor']\n",
            "['91', '5.5', '2.6', '4.4', '1.2', 'Iris-versicolor']\n",
            "['92', '6.1', '3.0', '4.6', '1.4', 'Iris-versicolor']\n",
            "['93', '5.8', '2.6', '4.0', '1.2', 'Iris-versicolor']\n",
            "['94', '5.0', '2.3', '3.3', '1.0', 'Iris-versicolor']\n",
            "['95', '5.6', '2.7', '4.2', '1.3', 'Iris-versicolor']\n",
            "['96', '5.7', '3.0', '4.2', '1.2', 'Iris-versicolor']\n",
            "['97', '5.7', '2.9', '4.2', '1.3', 'Iris-versicolor']\n",
            "['98', '6.2', '2.9', '4.3', '1.3', 'Iris-versicolor']\n",
            "['99', '5.1', '2.5', '3.0', '1.1', 'Iris-versicolor']\n",
            "['100', '5.7', '2.8', '4.1', '1.3', 'Iris-versicolor']\n",
            "['101', '6.3', '3.3', '6.0', '2.5', 'Iris-virginica']\n",
            "['102', '5.8', '2.7', '5.1', '1.9', 'Iris-virginica']\n",
            "['103', '7.1', '3.0', '5.9', '2.1', 'Iris-virginica']\n",
            "['104', '6.3', '2.9', '5.6', '1.8', 'Iris-virginica']\n",
            "['105', '6.5', '3.0', '5.8', '2.2', 'Iris-virginica']\n",
            "['106', '7.6', '3.0', '6.6', '2.1', 'Iris-virginica']\n",
            "['107', '4.9', '2.5', '4.5', '1.7', 'Iris-virginica']\n",
            "['108', '7.3', '2.9', '6.3', '1.8', 'Iris-virginica']\n",
            "['109', '6.7', '2.5', '5.8', '1.8', 'Iris-virginica']\n",
            "['110', '7.2', '3.6', '6.1', '2.5', 'Iris-virginica']\n",
            "['111', '6.5', '3.2', '5.1', '2.0', 'Iris-virginica']\n",
            "['112', '6.4', '2.7', '5.3', '1.9', 'Iris-virginica']\n",
            "['113', '6.8', '3.0', '5.5', '2.1', 'Iris-virginica']\n",
            "['114', '5.7', '2.5', '5.0', '2.0', 'Iris-virginica']\n",
            "['115', '5.8', '2.8', '5.1', '2.4', 'Iris-virginica']\n",
            "['116', '6.4', '3.2', '5.3', '2.3', 'Iris-virginica']\n",
            "['117', '6.5', '3.0', '5.5', '1.8', 'Iris-virginica']\n",
            "['118', '7.7', '3.8', '6.7', '2.2', 'Iris-virginica']\n",
            "['119', '7.7', '2.6', '6.9', '2.3', 'Iris-virginica']\n",
            "['120', '6.0', '2.2', '5.0', '1.5', 'Iris-virginica']\n",
            "['121', '6.9', '3.2', '5.7', '2.3', 'Iris-virginica']\n",
            "['122', '5.6', '2.8', '4.9', '2.0', 'Iris-virginica']\n",
            "['123', '7.7', '2.8', '6.7', '2.0', 'Iris-virginica']\n",
            "['124', '6.3', '2.7', '4.9', '1.8', 'Iris-virginica']\n",
            "['125', '6.7', '3.3', '5.7', '2.1', 'Iris-virginica']\n",
            "['126', '7.2', '3.2', '6.0', '1.8', 'Iris-virginica']\n",
            "['127', '6.2', '2.8', '4.8', '1.8', 'Iris-virginica']\n",
            "['128', '6.1', '3.0', '4.9', '1.8', 'Iris-virginica']\n",
            "['129', '6.4', '2.8', '5.6', '2.1', 'Iris-virginica']\n",
            "['130', '7.2', '3.0', '5.8', '1.6', 'Iris-virginica']\n",
            "['131', '7.4', '2.8', '6.1', '1.9', 'Iris-virginica']\n",
            "['132', '7.9', '3.8', '6.4', '2.0', 'Iris-virginica']\n",
            "['133', '6.4', '2.8', '5.6', '2.2', 'Iris-virginica']\n",
            "['134', '6.3', '2.8', '5.1', '1.5', 'Iris-virginica']\n",
            "['135', '6.1', '2.6', '5.6', '1.4', 'Iris-virginica']\n",
            "['136', '7.7', '3.0', '6.1', '2.3', 'Iris-virginica']\n",
            "['137', '6.3', '3.4', '5.6', '2.4', 'Iris-virginica']\n",
            "['138', '6.4', '3.1', '5.5', '1.8', 'Iris-virginica']\n",
            "['139', '6.0', '3.0', '4.8', '1.8', 'Iris-virginica']\n",
            "['140', '6.9', '3.1', '5.4', '2.1', 'Iris-virginica']\n",
            "['141', '6.7', '3.1', '5.6', '2.4', 'Iris-virginica']\n",
            "['142', '6.9', '3.1', '5.1', '2.3', 'Iris-virginica']\n",
            "['143', '5.8', '2.7', '5.1', '1.9', 'Iris-virginica']\n",
            "['144', '6.8', '3.2', '5.9', '2.3', 'Iris-virginica']\n",
            "['145', '6.7', '3.3', '5.7', '2.5', 'Iris-virginica']\n",
            "['146', '6.7', '3.0', '5.2', '2.3', 'Iris-virginica']\n",
            "['147', '6.3', '2.5', '5.0', '1.9', 'Iris-virginica']\n",
            "['148', '6.5', '3.0', '5.2', '2.0', 'Iris-virginica']\n",
            "['149', '6.2', '3.4', '5.4', '2.3', 'Iris-virginica']\n",
            "['150', '5.9', '3.0', '5.1', '1.8', 'Iris-virginica']\n"
          ],
          "name": "stdout"
        }
      ]
    },
    {
      "cell_type": "code",
      "metadata": {
        "colab": {
          "base_uri": "https://localhost:8080/",
          "height": 215
        },
        "id": "XYd8NiDRYA-j",
        "outputId": "9331eb8a-8f98-4529-8e31-8420b83848a2"
      },
      "source": [
        "# result에 저장된 값 중 꽃받침과 꽃잎의 길이, 너비 값을 숫자로 바꾸기\n",
        "\n",
        "for i in result :\n",
        "    for j in range(1,5) :\n",
        "        i[j] = float(i[j])\n",
        "    print(i)"
      ],
      "execution_count": 13,
      "outputs": [
        {
          "output_type": "error",
          "ename": "ValueError",
          "evalue": "ignored",
          "traceback": [
            "\u001b[0;31m---------------------------------------------------------------------------\u001b[0m",
            "\u001b[0;31mValueError\u001b[0m                                Traceback (most recent call last)",
            "\u001b[0;32m<ipython-input-13-67db258e233d>\u001b[0m in \u001b[0;36m<module>\u001b[0;34m()\u001b[0m\n\u001b[1;32m      3\u001b[0m \u001b[0;32mfor\u001b[0m \u001b[0mi\u001b[0m \u001b[0;32min\u001b[0m \u001b[0mresult\u001b[0m \u001b[0;34m:\u001b[0m\u001b[0;34m\u001b[0m\u001b[0;34m\u001b[0m\u001b[0m\n\u001b[1;32m      4\u001b[0m     \u001b[0;32mfor\u001b[0m \u001b[0mj\u001b[0m \u001b[0;32min\u001b[0m \u001b[0mrange\u001b[0m\u001b[0;34m(\u001b[0m\u001b[0;36m1\u001b[0m\u001b[0;34m,\u001b[0m\u001b[0;36m5\u001b[0m\u001b[0;34m)\u001b[0m \u001b[0;34m:\u001b[0m\u001b[0;34m\u001b[0m\u001b[0;34m\u001b[0m\u001b[0m\n\u001b[0;32m----> 5\u001b[0;31m         \u001b[0mi\u001b[0m\u001b[0;34m[\u001b[0m\u001b[0mj\u001b[0m\u001b[0;34m]\u001b[0m \u001b[0;34m=\u001b[0m \u001b[0mfloat\u001b[0m\u001b[0;34m(\u001b[0m\u001b[0mi\u001b[0m\u001b[0;34m[\u001b[0m\u001b[0mj\u001b[0m\u001b[0;34m]\u001b[0m\u001b[0;34m)\u001b[0m\u001b[0;34m\u001b[0m\u001b[0;34m\u001b[0m\u001b[0m\n\u001b[0m\u001b[1;32m      6\u001b[0m     \u001b[0mprint\u001b[0m\u001b[0;34m(\u001b[0m\u001b[0mi\u001b[0m\u001b[0;34m)\u001b[0m\u001b[0;34m\u001b[0m\u001b[0;34m\u001b[0m\u001b[0m\n",
            "\u001b[0;31mValueError\u001b[0m: could not convert string to float: 'SepalLengthCm'"
          ]
        }
      ]
    },
    {
      "cell_type": "code",
      "metadata": {
        "colab": {
          "base_uri": "https://localhost:8080/"
        },
        "id": "4eEq11iwYMXg",
        "outputId": "fbe9e104-d382-4561-8da0-ded2d62e7c44"
      },
      "source": [
        "import csv\n",
        "\n",
        "f = open('/content/sample_data/Iris.csv')  \n",
        "data = csv.reader(f)\n",
        "header = next(data)\n",
        "result =[]\n",
        "\n",
        "# 전체 데이터를 행별로 result 리스트에 저장\n",
        "for row in data :\n",
        "    result.append(row)\n",
        "\n",
        "# result에 저장된 값 중 꽃받침과 꽃잎의 길이, 너비 값을 숫자로 바꾸기\n",
        "for i in result :\n",
        "    for j in range(1,5) :\n",
        "        i[j] = float(i[j])\n",
        "\n",
        "# 꽃 종류별 데이터 저장하기\n",
        "a = []                         # Iris-setosa 정보를 저장할 리스트 만들기\n",
        "b = []                         # Iris-versicolor 정보를 저장할 리스트 만들기\n",
        "c = []                         # Iris-verginica 정보를 저장할 리스트 만들기\n",
        "\n",
        "for i in result :\n",
        "    if i[5]=='Iris-setosa' :\n",
        "        a.append(i[0:5])\n",
        "    if i[5]=='Iris-versicolor' :\n",
        "        b.append(i[0:5])\n",
        "    if i[5]=='Iris-virginica' :\n",
        "        c.append(i[0:5])\n",
        "\n",
        "#setosa의 꽃잎과 꽃받침 너비, 길이에 따른 평균값 구해보기\n",
        "SL = []                       # 꽃받침 길이 값 저장할 리스트 만들기\n",
        "SW = []                       # 꽃받침 너비 값 저장할 리스트 만들기\n",
        "PL = []                       # 꽃잎 길이 값 저장할 리스트 만들기\n",
        "PW = []                       # 꽃잎 너비 값 저장할 리스트 만들기\n",
        "\n",
        "for i in a :\n",
        "    SL.append(i[1])\n",
        "    SW.append(i[2])\n",
        "    PL.append(i[3])\n",
        "    PW.append(i[4])\n",
        "#---------------------------------------------------------------------\n",
        "# Iris-setosa의 꽃잎과 꽃받침 길이, 너비에 따른 중앙값 구하기    \n",
        "\n",
        "SL.sort( ) # 꽃받침 길이 정렬하기\n",
        "SW.sort( ) # 꽃받침 너비 정렬하기\n",
        "PL.sort( ) # 꽃잎 길이 정렬하기\n",
        "PW.sort( ) # 꽃잎 너비 정렬하기\n",
        "m = int(len(a)/2) # Iris-setosa의 전체 개수를 2로 나누어 중앙값 구하기\n",
        "\n",
        "print('<Iris-setosa의 특성별 중앙값>') # 제목 출력하기\n",
        "print('꽃받침 길이 중앙값:', SL[m], '\\n꽃받침 너비 중앙값:', SW[m], '\\n꽃잎 길이 중앙값:', PL[m], '\\n꽃잎 너비 중앙값:', PW[m])\n",
        "    \n"
      ],
      "execution_count": 16,
      "outputs": [
        {
          "output_type": "stream",
          "text": [
            "<Iris-setosa의 특성별 중앙값>\n",
            "꽃받침 길이 중앙값: 5.0 \n",
            "꽃받침 너비 중앙값: 3.4 \n",
            "꽃잎 길이 중앙값: 1.5 \n",
            "꽃잎 너비 중앙값: 0.2\n"
          ],
          "name": "stdout"
        }
      ]
    },
    {
      "cell_type": "markdown",
      "metadata": {
        "id": "VzKB-qJRZaR0"
      },
      "source": [
        "# 데이터 시각화 "
      ]
    },
    {
      "cell_type": "code",
      "metadata": {
        "colab": {
          "base_uri": "https://localhost:8080/"
        },
        "id": "rj3qb8wxZvbg",
        "outputId": "ed03c924-af60-4e08-fa02-ff5edf649c0a"
      },
      "source": [
        "import pandas as pd\n",
        "\n",
        "iris = pd.read_csv('/content/sample_data/Iris.csv')\n",
        "\n",
        "print(iris.head(2))\n",
        "print(iris.info( ))\n",
        "print(iris.describe( ))\n"
      ],
      "execution_count": 21,
      "outputs": [
        {
          "output_type": "stream",
          "text": [
            "   Id  SepalLengthCm  SepalWidthCm  PetalLengthCm  PetalWidthCm      Species\n",
            "0   1            5.1           3.5            1.4           0.2  Iris-setosa\n",
            "1   2            4.9           3.0            1.4           0.2  Iris-setosa\n",
            "<class 'pandas.core.frame.DataFrame'>\n",
            "RangeIndex: 150 entries, 0 to 149\n",
            "Data columns (total 6 columns):\n",
            " #   Column         Non-Null Count  Dtype  \n",
            "---  ------         --------------  -----  \n",
            " 0   Id             150 non-null    int64  \n",
            " 1   SepalLengthCm  150 non-null    float64\n",
            " 2   SepalWidthCm   150 non-null    float64\n",
            " 3   PetalLengthCm  150 non-null    float64\n",
            " 4   PetalWidthCm   150 non-null    float64\n",
            " 5   Species        150 non-null    object \n",
            "dtypes: float64(4), int64(1), object(1)\n",
            "memory usage: 7.2+ KB\n",
            "None\n",
            "               Id  SepalLengthCm  SepalWidthCm  PetalLengthCm  PetalWidthCm\n",
            "count  150.000000     150.000000    150.000000     150.000000    150.000000\n",
            "mean    75.500000       5.843333      3.054000       3.758667      1.198667\n",
            "std     43.445368       0.828066      0.433594       1.764420      0.763161\n",
            "min      1.000000       4.300000      2.000000       1.000000      0.100000\n",
            "25%     38.250000       5.100000      2.800000       1.600000      0.300000\n",
            "50%     75.500000       5.800000      3.000000       4.350000      1.300000\n",
            "75%    112.750000       6.400000      3.300000       5.100000      1.800000\n",
            "max    150.000000       7.900000      4.400000       6.900000      2.500000\n"
          ],
          "name": "stdout"
        }
      ]
    },
    {
      "cell_type": "code",
      "metadata": {
        "colab": {
          "base_uri": "https://localhost:8080/",
          "height": 404
        },
        "id": "Ea6rhEYtZdC_",
        "outputId": "fc347144-ae7a-4b1d-ec22-2208abf64545"
      },
      "source": [
        "import pandas as pd\n",
        "\n",
        "iris = pd.read_csv('/content/sample_data/Iris.csv')\n",
        "\n",
        "import matplotlib.pyplot as plt\n",
        "\n",
        "# 꽃받침(Sepal)의 길이와 너비에 따른 분산형(scatter) 그래프\n",
        "\n",
        "fig = iris[iris.Species=='Iris-setosa'].plot(kind='scatter',x='SepalLengthCm',y='SepalWidthCm',color='orange', label='Setosa')\n",
        "iris[iris.Species=='Iris-versicolor'].plot(kind='scatter',x='SepalLengthCm',y='SepalWidthCm',color='blue', label='versicolor',ax=fig)\n",
        "iris[iris.Species=='Iris-virginica'].plot(kind='scatter',x='SepalLengthCm',y='SepalWidthCm',color='green', label='virginica', ax=fig)\n",
        "\n",
        "fig.set_xlabel(\"Sepal Length\")\n",
        "fig.set_ylabel(\"Sepal Width\")\n",
        "fig.set_title(\"Sepal Length VS Width\")\n",
        "fig=plt.gcf()\n",
        "fig.set_size_inches(10,6)\n",
        "plt.show()\n",
        "\n"
      ],
      "execution_count": 22,
      "outputs": [
        {
          "output_type": "display_data",
          "data": {
            "image/png": "[encoded data removed]",
            "text/plain": [
              "<Figure size 720x432 with 1 Axes>"
            ]
          },
          "metadata": {
            "tags": [],
            "needs_background": "light"
          }
        }
      ]
    },
    {
      "cell_type": "code",
      "metadata": {
        "colab": {
          "base_uri": "https://localhost:8080/",
          "height": 404
        },
        "id": "ekwurxH5aBJr",
        "outputId": "3752555e-b713-4e83-d745-1f6349e98bc8"
      },
      "source": [
        "import pandas as pd\n",
        "\n",
        "iris = pd.read_csv('/content/sample_data/Iris.csv')\n",
        "\n",
        "import matplotlib.pyplot as plt\n",
        "\n",
        "# 꽃잎(Petal)의 길이와 너비에 따른 분산형(scatter) 그래프\n",
        "fig = iris[iris.Species=='Iris-setosa'].plot.scatter(x='PetalLengthCm',y='PetalWidthCm',color='orange', label='Setosa')\n",
        "iris[iris.Species=='Iris-versicolor'].plot.scatter(x='PetalLengthCm',y='PetalWidthCm',color='blue', label='versicolor',ax=fig)\n",
        "iris[iris.Species=='Iris-virginica'].plot.scatter(x='PetalLengthCm',y='PetalWidthCm',color='green', label='virginica', ax=fig)\n",
        "fig.set_xlabel(\"Petal Length\")\n",
        "fig.set_ylabel(\"Petal Width\")\n",
        "fig.set_title(\" Petal Length VS Width\")\n",
        "fig=plt.gcf()\n",
        "fig.set_size_inches(10,6)\n",
        "plt.show()\n"
      ],
      "execution_count": 23,
      "outputs": [
        {
          "output_type": "display_data",
          "data": {
            "image/png": "[encoded data removed]",
            "text/plain": [
              "<Figure size 720x432 with 1 Axes>"
            ]
          },
          "metadata": {
            "tags": [],
            "needs_background": "light"
          }
        }
      ]
    },
    {
      "cell_type": "markdown",
      "metadata": {
        "id": "ib4SuP70aa1U"
      },
      "source": [
        "# 학습하기 \n",
        "\n",
        "k - 최근접 이웃 알고리즘 "
      ]
    },
    {
      "cell_type": "code",
      "metadata": {
        "colab": {
          "base_uri": "https://localhost:8080/"
        },
        "id": "vJMCYr1TaGWQ",
        "outputId": "d1dbccc5-e14c-42ee-cd40-06b22d4e0faa"
      },
      "source": [
        "\n",
        "import pandas as pd                        # 모듈 추가하기\n",
        "\n",
        "iris = pd.read_csv('/content/sample_data/Iris.csv')             # 붖꽃 데이터 불러오기\n",
        "\n",
        " \n",
        "# 150개 데이터의 특성 데이터와 종류 데이터를 나누어 저장하기\n",
        "import numpy as np                         # 모듈 추가하기\n",
        "\n",
        "# 계산의 편의를 위해 데이터셋의 형식을 numpy로 변환\n",
        "xy = np.array(iris)\n",
        "# 테이블의 1~4 열벡터 를 features에 저장\n",
        "features = xy[:, 1:-1]\n",
        "# 테이블의 마지막 열벡터를 target_values에 저장\n",
        "target_value = xy[:, [-1]]\n",
        "\n",
        "# 유클리드 거리법을 이용하여 두 데이터 간의 거리를 구하는 함수 선언하기\n",
        "# Distance 함수 만들기\n",
        "def Distance(A, B):\n",
        "    return np.sqrt(np.sum(np.power((A-B),2)))\n",
        "\n",
        "\n",
        "# 붓꽃 분류기 함수 작성하기\n",
        "# 마지막 행벡터와 거리가 가까운 K개의 데이터의 라벨 중 빈도가 가장 높은 라벨을 반환하는 함수 정의하기\n",
        "def K_NN(Unknown,features,K):\n",
        "    # ① 데이터 간의 거리 계산\n",
        "    distance_result = np.zeros(150)\n",
        "    for i in  range(150):\n",
        "        distance_result[i]= Distance(Unknown,features[i])\n",
        "    # ② 분류하려는 데이터와 가까운 순서대로 나열\n",
        "    index = distance_result.argsort()\n",
        "    # ③ K개의 라벨 확인\n",
        "    target_result = []\n",
        "    result=[0,0,0]\n",
        "    for i in range(K):\n",
        "        target_result.append(target_value[index[i]])\n",
        "        if target_result[i]=='Iris-setosa':\n",
        "           result[0]+=1\n",
        "        elif target_result[i]=='Iris-versicolor':\n",
        "             result[1]+=1\n",
        "        else:\n",
        "             result[2]+=1\n",
        "    # ④ 라벨의 빈도가 가장 높은 값 반환\n",
        "    max_label=result.index(max(result))\n",
        "    species = {0:\"setosa\", 1:\"versicolor\", 2:\"virginica\"}\n",
        "    species_result = species[max_label]\n",
        "    return species_result\n",
        "\n",
        "# 붓꽃 분류 함수를 사용하여 가상의 데이터 분류하기\n",
        "\n",
        "# 마지막 150번째 데이터(인덱스 번호는 0부터 이므로 149)\n",
        "test_1=features[149]\n",
        "# 150번째와 유사한 가상의 데이터 \n",
        "test_2=np.array([6,2.9,5,2])\n",
        "# K_NN 분류기 함수를 이용하여 분류하기\n",
        "result_1=K_NN(test_1,features,5)\n",
        "result_2=K_NN(test_2,features,5)\n",
        "# 결과 출력\n",
        "print(\"실제 데이터를 분류한 결과 : {0}\".format(result_1))\n",
        "print(\"가상 데이터를 분류한 결과 : {0}\" .format(result_2))\n",
        "\n",
        "\n",
        "  \n"
      ],
      "execution_count": 24,
      "outputs": [
        {
          "output_type": "stream",
          "text": [
            "실제 데이터를 분류한 결과 : virginica\n",
            "가상 데이터를 분류한 결과 : virginica\n"
          ],
          "name": "stdout"
        }
      ]
    },
    {
      "cell_type": "markdown",
      "metadata": {
        "id": "e54L60aZap2H"
      },
      "source": [
        " ## 고흐 그림속 붓 꽃 종류 "
      ]
    },
    {
      "cell_type": "code",
      "metadata": {
        "colab": {
          "base_uri": "https://localhost:8080/"
        },
        "id": "gk6px04SaMXh",
        "outputId": "acdc3ed6-69a7-4f0a-ae8a-e2286db2c9d2"
      },
      "source": [
        "# 데이터 불러오기\n",
        "import pandas as pd\n",
        "iris = pd.read_csv('/content/sample_data/Iris.csv')    # 붖꽃 데이터 불러오기\n",
        " \n",
        "# 150개 데이터의 특성 데이터와 종류 데이터를 나누어 저장하기\n",
        "import numpy as np\n",
        "\n",
        "# 계산의 편의를 위해 데이터셋의 형식을 numpy로 변환\n",
        "xy = np.array(iris)\n",
        "# 테이블의 1~4 열벡터 를 features에 저장\n",
        "features = xy[:, 1:-1]\n",
        "# 테이블의 마지막 열벡터를 target_values에 저장\n",
        "target_value = xy[:, [-1]]\n",
        "\n",
        "# [Step3] 유클리드 거리법을 이용하여 두 데이터 간의 거리를 구하는 함수 선언하기\n",
        "# Distance 함수 만들기\n",
        "def Distance(A, B):\n",
        "    return np.sqrt(np.sum(np.power((A-B),2)))\n",
        "\n",
        "\n",
        "# [Step 4] 붓꽃 분류기 함수 작성하기\n",
        "# 마지막 행벡터와 거리가 가까운 K개의 데이터의 라벨 중 빈도가 가장 높은 라벨을 반환하는 함수 정의하기\n",
        "def K_NN(Unknown,features,K):\n",
        "    # ①_데이터간의 거리 계산\n",
        "    distance_result = np.zeros(150)\n",
        "    for i in  range(150):\n",
        "        distance_result[i]= Distance(Unknown,features[i])\n",
        "    # ②_분류하려는 데이터와 가까운 순서대로 나열\n",
        "    index = distance_result.argsort()\n",
        "    # ③_K개의 라벨 확인\n",
        "    target_result = []\n",
        "    result=[0,0,0]\n",
        "    for i in range(K):\n",
        "        target_result.append(target_value[index[i]])\n",
        "        if target_result[i]=='Iris-setosa':\n",
        "           result[0]+=1\n",
        "        elif target_result[i]=='Iris-versicolor':\n",
        "             result[1]+=1\n",
        "        else:\n",
        "             result[2]+=1\n",
        "    # ④_라벨의 빈도가 가장 높은 값 반환\n",
        "    max_label=result.index(max(result))\n",
        "    species = {0:\"setosa\", 1:\"versicolor\", 2:\"virginica\"}\n",
        "    species_result = species[max_label]\n",
        "    return species_result\n",
        "\n",
        "\n",
        "# 고흐가 그린 붓꽃 그림의 데이터 분류하기\n",
        "\n",
        "# 그림에서 수집한 데이터\n",
        "ID_1=np.array([2.7, 2.4, 1.65, 0.67])\n",
        "ID_2=np.array([5.84, 5.48, 3, 2.16])\n",
        "ID_3=np.array([3.97, 4.01, 1.7, 0.67])\n",
        "\n",
        "\n",
        "# K_NN 분류기 함수를 이용하여 분류하기\n",
        "result_1=K_NN(ID_1,features,5)\n",
        "result_2=K_NN(ID_2,features,5)\n",
        "result_3=K_NN(ID_3,features,5)\n",
        "\n",
        "# 분류 결과 출력하기\n",
        "print(result_1,result_2,result_3)\n",
        "\n",
        "\n"
      ],
      "execution_count": 25,
      "outputs": [
        {
          "output_type": "stream",
          "text": [
            "setosa setosa setosa\n"
          ],
          "name": "stdout"
        }
      ]
    }
  ]
}